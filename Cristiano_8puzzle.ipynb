{
  "nbformat": 4,
  "nbformat_minor": 0,
  "metadata": {
    "colab": {
      "provenance": [],
      "authorship_tag": "ABX9TyM5OxZT4whKzO9/lhRKHQCr",
      "include_colab_link": true
    },
    "kernelspec": {
      "name": "python3",
      "display_name": "Python 3"
    },
    "language_info": {
      "name": "python"
    }
  },
  "cells": [
    {
      "cell_type": "markdown",
      "metadata": {
        "id": "view-in-github",
        "colab_type": "text"
      },
      "source": [
        "<a href=\"https://colab.research.google.com/github/cris141187/Notebook/blob/main/Cristiano_8puzzle.ipynb\" target=\"_parent\"><img src=\"https://colab.research.google.com/assets/colab-badge.svg\" alt=\"Open In Colab\"/></a>"
      ]
    },
    {
      "cell_type": "markdown",
      "source": [
        "##Equipe \n",
        "####CRISTIANO DOS SANTOS CARVALHO RA:2920481911028\n",
        "####GUILHERME SILVA DE OLIVEIRA RA:2920482021009\n",
        "####ELIANE LEITE ANDRADE RA:2920482021032\n",
        "####JESSICA DIAS SANTOS CORREIA RA:2920481821042\n",
        "####SAMUEL SANTANA DIAS DA SILVA RA:2920481821012\n"
      ],
      "metadata": {
        "id": "mFkT41K6yrDi"
      }
    },
    {
      "cell_type": "code",
      "source": [
        "!pip install simpleai"
      ],
      "metadata": {
        "colab": {
          "base_uri": "https://localhost:8080/"
        },
        "id": "LjpcnEZ6mFaq",
        "outputId": "b082af2d-c509-4ce7-8682-ed8a701099ea"
      },
      "execution_count": null,
      "outputs": [
        {
          "output_type": "stream",
          "name": "stdout",
          "text": [
            "Looking in indexes: https://pypi.org/simple, https://us-python.pkg.dev/colab-wheels/public/simple/\n",
            "Requirement already satisfied: simpleai in /usr/local/lib/python3.8/dist-packages (0.8.3)\n"
          ]
        }
      ]
    },
    {
      "cell_type": "markdown",
      "source": [
        "# Quebra-cabeça de 8 peças\n",
        "## Disciplina: Inteligência Artificial e Aplicações - Fatec Ferraz de Vasconcelos\n",
        "### Professora: Ana Rosa C. Tonão\n",
        "#### Data: 13/06/2022"
      ],
      "metadata": {
        "id": "5i9PcodgfmKi"
      }
    },
    {
      "cell_type": "code",
      "source": [
        "from simpleai.search import astar, SearchProblem"
      ],
      "metadata": {
        "id": "ItAquoa6fofc"
      },
      "execution_count": null,
      "outputs": []
    },
    {
      "cell_type": "code",
      "source": [
        "# Classe contendo métodos para resolver o quebra-cabeça\n",
        "class PuzzleSolver(SearchProblem):\n",
        "    # Método de ação para obter a lista dos possíveis\n",
        "    # números que podem ser movidos para o espaço vazio\n",
        "    def actions(self, cur_state):\n",
        "        rows = string_to_list(cur_state)\n",
        "        row_empty, col_empty = get_location(rows, 'e')\n",
        "\n",
        "        actions = []\n",
        "        if row_empty > 0:\n",
        "            actions.append(rows[row_empty - 1][col_empty])\n",
        "        if row_empty < 2:\n",
        "            actions.append(rows[row_empty + 1][col_empty])\n",
        "        if col_empty > 0:\n",
        "            actions.append(rows[row_empty][col_empty - 1])\n",
        "        if col_empty < 2:\n",
        "            actions.append(rows[row_empty][col_empty + 1])\n",
        "\n",
        "        return actions\n",
        "\n",
        "   # Retorna o estado resultante após mover uma peça para o espaço vazio\n",
        "    def result(self, state, action):\n",
        "        rows = string_to_list(state)\n",
        "        row_empty, col_empty = get_location(rows, 'e')\n",
        "        row_new, col_new = get_location(rows, action)\n",
        "\n",
        "        rows[row_empty][col_empty], rows[row_new][col_new] = \\\n",
        "                rows[row_new][col_new], rows[row_empty][col_empty]\n",
        "\n",
        "        return list_to_string(rows)\n",
        "\n",
        "    # Retorna verdadeiro se um estado for o estado objetivo\n",
        "    def is_goal(self, state):\n",
        "        return state == GOAL\n",
        "\n",
        "    # Retorna uma estimativa da distância de um estado para\n",
        "    # a meta usando a distância manhattan\n",
        "    def heuristic(self, state):\n",
        "        rows = string_to_list(state)\n",
        "\n",
        "        distance = 0\n",
        "\n",
        "        for number in '12345678e':\n",
        "            row_new, col_new = get_location(rows, number)\n",
        "            row_new_goal, col_new_goal = goal_positions[number]\n",
        "\n",
        "            distance += abs(row_new - row_new_goal) + abs(col_new - col_new_goal)\n",
        "\n",
        "        return distance"
      ],
      "metadata": {
        "id": "zaUgPHb1funL"
      },
      "execution_count": null,
      "outputs": []
    },
    {
      "cell_type": "code",
      "source": [
        "# Convert list to string\n",
        "def list_to_string(input_list):\n",
        "    return '\\n'.join(['-'.join(x) for x in input_list])\n",
        "\n",
        "# Convert string to list\n",
        "def string_to_list(input_string):\n",
        "    return [x.split('-') for x in input_string.split('\\n')]\n",
        "\n",
        "# Encontre a localização 2D do elemento de entrada\n",
        "def get_location(rows, input_element):\n",
        "    for i, row in enumerate(rows):\n",
        "        for j, item in enumerate(row):\n",
        "            if item == input_element:\n",
        "                return i, j "
      ],
      "metadata": {
        "id": "8mLiMz52f3WE"
      },
      "execution_count": null,
      "outputs": []
    },
    {
      "cell_type": "code",
      "source": [
        "# Resultado final que queremos alcançar\n",
        "GOAL = '''1-2-3\n",
        "4-5-6\n",
        "7-8-e'''\n",
        "\n",
        "# Ponto de partida\n",
        "INITIAL = '''1-e-2\n",
        "6-3-4\n",
        "7-5-8'''\n",
        "INITIAL1 = '''1-2-3\n",
        "4-5-7\n",
        "8-6-e'''\n",
        "INITIAL2 = '''3-4-1\n",
        "2-5-6\n",
        "7-8-e'''\n",
        "INITIAL3 = '''1-3-4\n",
        "e-5-6\n",
        "7-8-2'''"
      ],
      "metadata": {
        "id": "3olG7Esvf6lT"
      },
      "execution_count": null,
      "outputs": []
    },
    {
      "cell_type": "code",
      "source": [
        "# Crie um cache para a posição de gol de cada peça\n",
        "goal_positions = {}\n",
        "rows_goal = string_to_list(GOAL)\n",
        "for number in '12345678e':\n",
        "    goal_positions[number] = get_location(rows_goal, number)\n"
      ],
      "metadata": {
        "id": "eUv3tXtff9Cn"
      },
      "execution_count": null,
      "outputs": []
    },
    {
      "cell_type": "markdown",
      "source": [
        "### Create the solver object\n"
      ],
      "metadata": {
        "id": "17oLleEigDKq"
      }
    },
    {
      "cell_type": "code",
      "source": [
        "result = astar(PuzzleSolver(INITIAL))"
      ],
      "metadata": {
        "id": "BoEOtC1EgH0T"
      },
      "execution_count": null,
      "outputs": []
    },
    {
      "cell_type": "code",
      "source": [
        "# Imprima os resultados\n",
        "for i, (action, state) in enumerate(result.path()):\n",
        "    print()\n",
        "    if action == None:\n",
        "        print('Configuração inicial')\n",
        "    elif i == len(result.path()) - 1:\n",
        "        print('Depois de mover', action, 'no espaço vazio. Objetivo alcançado!', 'Jogada:', i)\n",
        "    else:\n",
        "        print('Depois de mover', action, 'no espaço vazio')\n",
        "\n",
        "    print(state)\n"
      ],
      "metadata": {
        "colab": {
          "base_uri": "https://localhost:8080/"
        },
        "id": "8gpHKZhc44fZ",
        "outputId": "7230ff52-0de3-4628-ee19-c0f6ab02ae51"
      },
      "execution_count": null,
      "outputs": [
        {
          "output_type": "stream",
          "name": "stdout",
          "text": [
            "\n",
            "Configuração inicial\n",
            "1-e-2\n",
            "6-3-4\n",
            "7-5-8\n",
            "\n",
            "Depois de mover 2 no espaço vazio\n",
            "1-2-e\n",
            "6-3-4\n",
            "7-5-8\n",
            "\n",
            "Depois de mover 4 no espaço vazio\n",
            "1-2-4\n",
            "6-3-e\n",
            "7-5-8\n",
            "\n",
            "Depois de mover 3 no espaço vazio\n",
            "1-2-4\n",
            "6-e-3\n",
            "7-5-8\n",
            "\n",
            "Depois de mover 6 no espaço vazio\n",
            "1-2-4\n",
            "e-6-3\n",
            "7-5-8\n",
            "\n",
            "Depois de mover 1 no espaço vazio\n",
            "e-2-4\n",
            "1-6-3\n",
            "7-5-8\n",
            "\n",
            "Depois de mover 2 no espaço vazio\n",
            "2-e-4\n",
            "1-6-3\n",
            "7-5-8\n",
            "\n",
            "Depois de mover 4 no espaço vazio\n",
            "2-4-e\n",
            "1-6-3\n",
            "7-5-8\n",
            "\n",
            "Depois de mover 3 no espaço vazio\n",
            "2-4-3\n",
            "1-6-e\n",
            "7-5-8\n",
            "\n",
            "Depois de mover 6 no espaço vazio\n",
            "2-4-3\n",
            "1-e-6\n",
            "7-5-8\n",
            "\n",
            "Depois de mover 4 no espaço vazio\n",
            "2-e-3\n",
            "1-4-6\n",
            "7-5-8\n",
            "\n",
            "Depois de mover 2 no espaço vazio\n",
            "e-2-3\n",
            "1-4-6\n",
            "7-5-8\n",
            "\n",
            "Depois de mover 1 no espaço vazio\n",
            "1-2-3\n",
            "e-4-6\n",
            "7-5-8\n",
            "\n",
            "Depois de mover 4 no espaço vazio\n",
            "1-2-3\n",
            "4-e-6\n",
            "7-5-8\n",
            "\n",
            "Depois de mover 5 no espaço vazio\n",
            "1-2-3\n",
            "4-5-6\n",
            "7-e-8\n",
            "\n",
            "Depois de mover 8 no espaço vazio. Objetivo alcançado! Jogada: 15\n",
            "1-2-3\n",
            "4-5-6\n",
            "7-8-e\n"
          ]
        }
      ]
    },
    {
      "cell_type": "code",
      "source": [
        "result1 = astar(PuzzleSolver(INITIAL1))"
      ],
      "metadata": {
        "id": "FLhlPQUx3xuN"
      },
      "execution_count": null,
      "outputs": []
    },
    {
      "cell_type": "code",
      "source": [
        "# Imprima os resultados 1\n",
        "for i, (action, state) in enumerate(result1.path()):\n",
        "    print()\n",
        "    if action == None:\n",
        "        print('Configuração inicial 1')\n",
        "    elif i == len(result1.path()) - 1:\n",
        "        print('Depois de mover', action, 'no espaço vazio. Objetivo alcançado!', 'Jogada:', i)\n",
        "    else:\n",
        "        print('Depois de mover', action, 'no espaço vazio')\n",
        "\n",
        "    print(state)"
      ],
      "metadata": {
        "colab": {
          "base_uri": "https://localhost:8080/"
        },
        "id": "d8FQ0zwH45_o",
        "outputId": "c30b00b3-66c3-46c9-e72e-f95a914edca9"
      },
      "execution_count": null,
      "outputs": [
        {
          "output_type": "stream",
          "name": "stdout",
          "text": [
            "\n",
            "Configuração inicial 1\n",
            "1-2-3\n",
            "4-5-7\n",
            "8-6-e\n",
            "\n",
            "Depois de mover 6 no espaço vazio\n",
            "1-2-3\n",
            "4-5-7\n",
            "8-e-6\n",
            "\n",
            "Depois de mover 8 no espaço vazio\n",
            "1-2-3\n",
            "4-5-7\n",
            "e-8-6\n",
            "\n",
            "Depois de mover 4 no espaço vazio\n",
            "1-2-3\n",
            "e-5-7\n",
            "4-8-6\n",
            "\n",
            "Depois de mover 5 no espaço vazio\n",
            "1-2-3\n",
            "5-e-7\n",
            "4-8-6\n",
            "\n",
            "Depois de mover 7 no espaço vazio\n",
            "1-2-3\n",
            "5-7-e\n",
            "4-8-6\n",
            "\n",
            "Depois de mover 6 no espaço vazio\n",
            "1-2-3\n",
            "5-7-6\n",
            "4-8-e\n",
            "\n",
            "Depois de mover 8 no espaço vazio\n",
            "1-2-3\n",
            "5-7-6\n",
            "4-e-8\n",
            "\n",
            "Depois de mover 7 no espaço vazio\n",
            "1-2-3\n",
            "5-e-6\n",
            "4-7-8\n",
            "\n",
            "Depois de mover 5 no espaço vazio\n",
            "1-2-3\n",
            "e-5-6\n",
            "4-7-8\n",
            "\n",
            "Depois de mover 4 no espaço vazio\n",
            "1-2-3\n",
            "4-5-6\n",
            "e-7-8\n",
            "\n",
            "Depois de mover 7 no espaço vazio\n",
            "1-2-3\n",
            "4-5-6\n",
            "7-e-8\n",
            "\n",
            "Depois de mover 8 no espaço vazio. Objetivo alcançado! Jogada: 12\n",
            "1-2-3\n",
            "4-5-6\n",
            "7-8-e\n"
          ]
        }
      ]
    },
    {
      "cell_type": "code",
      "source": [
        "result2 = astar(PuzzleSolver(INITIAL2))"
      ],
      "metadata": {
        "id": "9WBxY4kI3ybc"
      },
      "execution_count": null,
      "outputs": []
    },
    {
      "cell_type": "code",
      "source": [
        "# Imprima os resultados 2\n",
        "for i, (action, state) in enumerate(result2.path()):\n",
        "    print()\n",
        "    if action == None:\n",
        "        print('Configuração inicial 2')\n",
        "    elif i == len(result2.path()) - 1:\n",
        "        print('Depois de mover', action, 'no espaço vazio. Objetivo alcançado!', 'Jogada:', i)\n",
        "    else:\n",
        "        print('Depois de mover', action, 'no espaço vazio')\n",
        "\n",
        "    print(state)"
      ],
      "metadata": {
        "colab": {
          "base_uri": "https://localhost:8080/"
        },
        "id": "7x_Zdrdw47lP",
        "outputId": "cc20bc77-7cff-4641-eab1-991bea42c913"
      },
      "execution_count": null,
      "outputs": [
        {
          "output_type": "stream",
          "name": "stdout",
          "text": [
            "\n",
            "Configuração inicial 2\n",
            "3-4-1\n",
            "2-5-6\n",
            "7-8-e\n",
            "\n",
            "Depois de mover 8 no espaço vazio\n",
            "3-4-1\n",
            "2-5-6\n",
            "7-e-8\n",
            "\n",
            "Depois de mover 5 no espaço vazio\n",
            "3-4-1\n",
            "2-e-6\n",
            "7-5-8\n",
            "\n",
            "Depois de mover 2 no espaço vazio\n",
            "3-4-1\n",
            "e-2-6\n",
            "7-5-8\n",
            "\n",
            "Depois de mover 3 no espaço vazio\n",
            "e-4-1\n",
            "3-2-6\n",
            "7-5-8\n",
            "\n",
            "Depois de mover 4 no espaço vazio\n",
            "4-e-1\n",
            "3-2-6\n",
            "7-5-8\n",
            "\n",
            "Depois de mover 1 no espaço vazio\n",
            "4-1-e\n",
            "3-2-6\n",
            "7-5-8\n",
            "\n",
            "Depois de mover 6 no espaço vazio\n",
            "4-1-6\n",
            "3-2-e\n",
            "7-5-8\n",
            "\n",
            "Depois de mover 2 no espaço vazio\n",
            "4-1-6\n",
            "3-e-2\n",
            "7-5-8\n",
            "\n",
            "Depois de mover 3 no espaço vazio\n",
            "4-1-6\n",
            "e-3-2\n",
            "7-5-8\n",
            "\n",
            "Depois de mover 4 no espaço vazio\n",
            "e-1-6\n",
            "4-3-2\n",
            "7-5-8\n",
            "\n",
            "Depois de mover 1 no espaço vazio\n",
            "1-e-6\n",
            "4-3-2\n",
            "7-5-8\n",
            "\n",
            "Depois de mover 3 no espaço vazio\n",
            "1-3-6\n",
            "4-e-2\n",
            "7-5-8\n",
            "\n",
            "Depois de mover 2 no espaço vazio\n",
            "1-3-6\n",
            "4-2-e\n",
            "7-5-8\n",
            "\n",
            "Depois de mover 6 no espaço vazio\n",
            "1-3-e\n",
            "4-2-6\n",
            "7-5-8\n",
            "\n",
            "Depois de mover 3 no espaço vazio\n",
            "1-e-3\n",
            "4-2-6\n",
            "7-5-8\n",
            "\n",
            "Depois de mover 2 no espaço vazio\n",
            "1-2-3\n",
            "4-e-6\n",
            "7-5-8\n",
            "\n",
            "Depois de mover 5 no espaço vazio\n",
            "1-2-3\n",
            "4-5-6\n",
            "7-e-8\n",
            "\n",
            "Depois de mover 8 no espaço vazio. Objetivo alcançado! Jogada: 18\n",
            "1-2-3\n",
            "4-5-6\n",
            "7-8-e\n"
          ]
        }
      ]
    },
    {
      "cell_type": "code",
      "source": [
        "result3 = astar(PuzzleSolver(INITIAL3))"
      ],
      "metadata": {
        "id": "hueJELMe3zOv"
      },
      "execution_count": null,
      "outputs": []
    },
    {
      "cell_type": "code",
      "source": [
        "# Imprima os resultados 3\n",
        "for i, (action, state) in enumerate(result3.path()):\n",
        "    print()\n",
        "    if action == None:\n",
        "        print('Configuração inicial 3')\n",
        "    elif i == len(result3.path()) - 1:\n",
        "        print('Depois de mover', action, 'no espaço vazio. Objetivo alcançado!', 'Jogada:', i)\n",
        "    else:\n",
        "        print('Depois de mover', action, 'no espaço vazio')\n",
        "\n",
        "    print(state)"
      ],
      "metadata": {
        "id": "MwyL0HnfgK1g",
        "colab": {
          "base_uri": "https://localhost:8080/"
        },
        "outputId": "230d65d1-4314-4e73-9231-93ad56df5ee1"
      },
      "execution_count": null,
      "outputs": [
        {
          "output_type": "stream",
          "name": "stdout",
          "text": [
            "\n",
            "Configuração inicial 3\n",
            "1-3-4\n",
            "e-5-6\n",
            "7-8-2\n",
            "\n",
            "Depois de mover 1 no espaço vazio\n",
            "e-3-4\n",
            "1-5-6\n",
            "7-8-2\n",
            "\n",
            "Depois de mover 3 no espaço vazio\n",
            "3-e-4\n",
            "1-5-6\n",
            "7-8-2\n",
            "\n",
            "Depois de mover 4 no espaço vazio\n",
            "3-4-e\n",
            "1-5-6\n",
            "7-8-2\n",
            "\n",
            "Depois de mover 6 no espaço vazio\n",
            "3-4-6\n",
            "1-5-e\n",
            "7-8-2\n",
            "\n",
            "Depois de mover 2 no espaço vazio\n",
            "3-4-6\n",
            "1-5-2\n",
            "7-8-e\n",
            "\n",
            "Depois de mover 8 no espaço vazio\n",
            "3-4-6\n",
            "1-5-2\n",
            "7-e-8\n",
            "\n",
            "Depois de mover 5 no espaço vazio\n",
            "3-4-6\n",
            "1-e-2\n",
            "7-5-8\n",
            "\n",
            "Depois de mover 4 no espaço vazio\n",
            "3-e-6\n",
            "1-4-2\n",
            "7-5-8\n",
            "\n",
            "Depois de mover 3 no espaço vazio\n",
            "e-3-6\n",
            "1-4-2\n",
            "7-5-8\n",
            "\n",
            "Depois de mover 1 no espaço vazio\n",
            "1-3-6\n",
            "e-4-2\n",
            "7-5-8\n",
            "\n",
            "Depois de mover 4 no espaço vazio\n",
            "1-3-6\n",
            "4-e-2\n",
            "7-5-8\n",
            "\n",
            "Depois de mover 2 no espaço vazio\n",
            "1-3-6\n",
            "4-2-e\n",
            "7-5-8\n",
            "\n",
            "Depois de mover 6 no espaço vazio\n",
            "1-3-e\n",
            "4-2-6\n",
            "7-5-8\n",
            "\n",
            "Depois de mover 3 no espaço vazio\n",
            "1-e-3\n",
            "4-2-6\n",
            "7-5-8\n",
            "\n",
            "Depois de mover 2 no espaço vazio\n",
            "1-2-3\n",
            "4-e-6\n",
            "7-5-8\n",
            "\n",
            "Depois de mover 5 no espaço vazio\n",
            "1-2-3\n",
            "4-5-6\n",
            "7-e-8\n",
            "\n",
            "Depois de mover 8 no espaço vazio. Objetivo alcançado! Jogada: 17\n",
            "1-2-3\n",
            "4-5-6\n",
            "7-8-e\n"
          ]
        }
      ]
    },
    {
      "cell_type": "markdown",
      "source": [
        "### Computation time of heuristic funcion"
      ],
      "metadata": {
        "id": "sGgHr8GtgO16"
      }
    },
    {
      "cell_type": "code",
      "source": [
        "%%timeit\n",
        "astar(PuzzleSolver(INITIAL))\n"
      ],
      "metadata": {
        "colab": {
          "base_uri": "https://localhost:8080/"
        },
        "id": "XOzGDu2MgR_v",
        "outputId": "84dbe6ff-6326-4e24-cb24-54fc8d211fdd"
      },
      "execution_count": null,
      "outputs": [
        {
          "output_type": "stream",
          "name": "stdout",
          "text": [
            "1.24 s ± 80.3 ms per loop (mean ± std. dev. of 7 runs, 1 loop each)\n"
          ]
        }
      ]
    },
    {
      "cell_type": "code",
      "source": [
        "%%timeit\n",
        "astar(PuzzleSolver(INITIAL1))"
      ],
      "metadata": {
        "colab": {
          "base_uri": "https://localhost:8080/"
        },
        "id": "-tslXlpd9oeD",
        "outputId": "4b3cdd22-dd3a-427f-83a9-e5f8b6f4bf1d"
      },
      "execution_count": null,
      "outputs": [
        {
          "output_type": "stream",
          "name": "stdout",
          "text": [
            "126 ms ± 2.43 ms per loop (mean ± std. dev. of 7 runs, 10 loops each)\n"
          ]
        }
      ]
    },
    {
      "cell_type": "code",
      "source": [
        "%%timeit\n",
        "astar(PuzzleSolver(INITIAL2))"
      ],
      "metadata": {
        "colab": {
          "base_uri": "https://localhost:8080/"
        },
        "id": "sQj5YRex9pGf",
        "outputId": "ec9ba57f-0b57-4e35-88e7-40a86c107b21"
      },
      "execution_count": null,
      "outputs": [
        {
          "output_type": "stream",
          "name": "stdout",
          "text": [
            "4.14 s ± 224 ms per loop (mean ± std. dev. of 7 runs, 1 loop each)\n"
          ]
        }
      ]
    },
    {
      "cell_type": "code",
      "source": [
        "%%timeit\n",
        "astar(PuzzleSolver(INITIAL3))"
      ],
      "metadata": {
        "colab": {
          "base_uri": "https://localhost:8080/"
        },
        "id": "ojozJJLE9pcO",
        "outputId": "3cc7eba5-67f2-4542-bce8-eece4062f627"
      },
      "execution_count": null,
      "outputs": [
        {
          "output_type": "stream",
          "name": "stdout",
          "text": [
            "4.29 s ± 75.2 ms per loop (mean ± std. dev. of 7 runs, 1 loop each)\n"
          ]
        }
      ]
    },
    {
      "cell_type": "markdown",
      "source": [
        "# Respostas:"
      ],
      "metadata": {
        "id": "j2vFRnq_gT34"
      }
    },
    {
      "cell_type": "markdown",
      "source": [
        "**5. Compare também os tempos de execução.**\n",
        "\n",
        "##Resposta:\n",
        "###1-Estado Inicial Padrão (1-e-2-6-3-4-7-5-8)\n",
        "#####Temos o tempo de execução em:\n",
        "#####1.24 s ± 80.3 ms per loop (mean ± std. dev. of 7 runs, 1 loop each)\n",
        "###2-Estado Inicial 1 (1-2-3-4-5-7-8-6-e)\n",
        "#####Temos o tempo de execução em:\n",
        "#####126 ms ± 1.27 ms per loop (mean ± std. dev. of 7 runs, 10 loops each)\n",
        "\n",
        "###3-Estado Inicial 2 (3-4-1-2-5-6-7-8-e)\n",
        "#####Temos o tempo de execução em:\n",
        "#####4.06 s ± 38.6 ms per loop (mean ± std. dev. of 7 runs, 1 loop each)\n",
        "\n",
        "###4-Estado Inicial 3 (1-3-4-e-5-6-7-8-2)\n",
        "#####Temos o tempo de execução em:\n",
        "#####4.29 s ± 75.2 ms per loop (mean ± std. dev. of 7 runs, 1 loop each)\n",
        "\n",
        "\n",
        "\n",
        "\n",
        "\n"
      ],
      "metadata": {
        "id": "8gDcab1ugfkX"
      }
    },
    {
      "cell_type": "markdown",
      "source": [
        "**6. Compare a quantidade de iterações (jogadas) necessária para atingir o objetivo em cada estado inicial.**\n",
        "\n",
        "##Resposta: \n",
        "####Objetivo alcançado no estado inicial (1-e-2-6-3-4-7-5-8) com Jogadas = 15\n",
        "####Objetivo alcançado no estado inicial (1-2-3-4-5-7-8-6-e) com Jogadas = 12\n",
        "####Objetivo alcançado no estado inicial (3-4-1-2-5-6-7-8-e) com Jogadas = 18\n",
        "####Objetivo alcançado no estado inicial (1-3-4-e-5-6-7-8-2) com Jogadas = 17"
      ],
      "metadata": {
        "id": "KZKIBKRYgiEH"
      }
    },
    {
      "cell_type": "markdown",
      "source": [
        "## FIM"
      ],
      "metadata": {
        "id": "hwP77fP8gkR3"
      }
    }
  ]
}